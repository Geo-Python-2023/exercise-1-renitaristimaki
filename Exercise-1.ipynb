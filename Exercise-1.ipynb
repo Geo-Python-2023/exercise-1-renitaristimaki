{
 "cells": [
  {
   "cell_type": "code",
   "execution_count": 4,
   "id": "d8cb1ecb-95c9-4d85-b754-75a076989c12",
   "metadata": {
    "tags": []
   },
   "outputs": [],
   "source": [
    "ice_cream_rating = 10\n",
    "sleeping_rating = 7"
   ]
  },
  {
   "cell_type": "code",
   "execution_count": 32,
   "id": "8f74859a-de70-4a5f-9e1a-34e1aa232b11",
   "metadata": {
    "tags": []
   },
   "outputs": [],
   "source": [
    "first_name = \"Renita\"\n",
    "last_name = \" Ristimaki\"\n",
    "my_name = first_name + last_name"
   ]
  },
  {
   "cell_type": "code",
   "execution_count": 12,
   "id": "f7466a11-90ab-4dd1-8214-62483c494c3e",
   "metadata": {
    "tags": []
   },
   "outputs": [
    {
     "data": {
      "text/plain": [
       "8.5"
      ]
     },
     "execution_count": 12,
     "metadata": {},
     "output_type": "execute_result"
    }
   ],
   "source": [
    "(ice_cream_rating + sleeping_rating) /2"
   ]
  },
  {
   "cell_type": "code",
   "execution_count": 13,
   "id": "84350ccd-02c3-42dc-95c2-2492d5d39b9f",
   "metadata": {
    "tags": []
   },
   "outputs": [],
   "source": [
    "happiness_rating = 8.5"
   ]
  },
  {
   "cell_type": "code",
   "execution_count": 19,
   "id": "cacce832-beeb-4cf6-96a2-7bfc28febc54",
   "metadata": {
    "tags": []
   },
   "outputs": [
    {
     "name": "stdout",
     "output_type": "stream",
     "text": [
      "<class 'int'>\n",
      "<class 'str'>\n",
      "<class 'float'>\n"
     ]
    }
   ],
   "source": [
    "print (type(ice_cream_rating))\n",
    "print (type(first_name))\n",
    "print (type(happiness_rating))"
   ]
  },
  {
   "cell_type": "code",
   "execution_count": 20,
   "id": "9b8db431-9a47-4bf0-bad6-14a7fb728a04",
   "metadata": {
    "tags": []
   },
   "outputs": [],
   "source": [
    "#I was not surprised for the results and all data types make sense to me."
   ]
  },
  {
   "cell_type": "code",
   "execution_count": 36,
   "id": "03e50c6a-02da-46e6-9ee6-3bc6530f2252",
   "metadata": {
    "tags": []
   },
   "outputs": [
    {
     "name": "stdout",
     "output_type": "stream",
     "text": [
      "My name is Renita and I give eating ice cream a score of 10 out of 10!\n",
      "I am Renita Ristimaki and my sleeping enjoyment rating is 7 / 10!\n",
      "Based on the factors above, my happiness rating is 8.5 out of 10, or 85.0%!\n"
     ]
    }
   ],
   "source": [
    "print(\"My name is\", first_name, \"and I give eating ice cream a score of\", ice_cream_rating, \"out of 10!\")\n",
    "print(\"I am\", my_name, \"and my sleeping enjoyment rating is\", sleeping_rating, \"/ 10!\")\n",
    "print(\"Based on the factors above, my happiness rating is\", happiness_rating, \"out of 10, or 85.0%!\")"
   ]
  },
  {
   "cell_type": "code",
   "execution_count": null,
   "id": "c6fd4653-bbd7-4a5c-95e2-040f3a1c8a55",
   "metadata": {},
   "outputs": [],
   "source": []
  }
 ],
 "metadata": {
  "kernelspec": {
   "display_name": "Python 3 (ipykernel)",
   "language": "python",
   "name": "python3"
  },
  "language_info": {
   "codemirror_mode": {
    "name": "ipython",
    "version": 3
   },
   "file_extension": ".py",
   "mimetype": "text/x-python",
   "name": "python",
   "nbconvert_exporter": "python",
   "pygments_lexer": "ipython3",
   "version": "3.10.12"
  }
 },
 "nbformat": 4,
 "nbformat_minor": 5
}
